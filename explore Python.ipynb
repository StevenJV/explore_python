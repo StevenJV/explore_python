{
 "cells": [
  {
   "cell_type": "code",
   "execution_count": null,
   "metadata": {},
   "outputs": [],
   "source": [
    "message = \"Hello world\"\n",
    "print(message)"
   ]
  },
  {
   "cell_type": "code",
   "execution_count": null,
   "metadata": {},
   "outputs": [],
   "source": [
    "import emoji\n",
    "print(emoji.emojize('I :red_heart:  Python!'))"
   ]
  },
  {
   "cell_type": "code",
   "execution_count": null,
   "metadata": {},
   "outputs": [],
   "source": [
    "length = 10\n",
    "width = 20\n",
    "area = length * width\n",
    "print (area)"
   ]
  },
  {
   "cell_type": "code",
   "execution_count": 6,
   "metadata": {},
   "outputs": [
    {
     "name": "stdout",
     "output_type": "stream",
     "text": [
      "total: $10.60\n"
     ]
    }
   ],
   "source": [
    "purchaseAmount = 10\n",
    "salesTax = .06\n",
    "total = purchaseAmount + (purchaseAmount* salesTax)\n",
    "print('total: ' + \"${:,.2f}\".format(total, ) )"
   ]
  },
  {
   "cell_type": "code",
   "execution_count": 12,
   "metadata": {},
   "outputs": [
    {
     "name": "stdout",
     "output_type": "stream",
     "text": [
      "you are 5 decades and 7 years decades old.\n"
     ]
    }
   ],
   "source": [
    "#age = int(input(\"how old are you?\\n\"))  # doesn't seem to work in a notebook\n",
    "age = 57\n",
    "decades = age//10\n",
    "years = age % 10 \n",
    "print(\"you are \" + str(decades) + \" decades and \" + str(years) + \" years decades old.\")"
   ]
  }
 ],
 "metadata": {
  "interpreter": {
   "hash": "0514e97edf832b3fc7ad0d48a2aa9470b941234e1e3562944bcff80e076e4a30"
  },
  "kernelspec": {
   "display_name": "Python 3.10.0 64-bit ('.env': venv)",
   "language": "python",
   "name": "python3"
  },
  "language_info": {
   "codemirror_mode": {
    "name": "ipython",
    "version": 3
   },
   "file_extension": ".py",
   "mimetype": "text/x-python",
   "name": "python",
   "nbconvert_exporter": "python",
   "pygments_lexer": "ipython3",
   "version": "3.10.0"
  },
  "orig_nbformat": 4
 },
 "nbformat": 4,
 "nbformat_minor": 2
}
